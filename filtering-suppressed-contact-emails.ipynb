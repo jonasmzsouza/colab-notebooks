{
  "nbformat": 4,
  "nbformat_minor": 0,
  "metadata": {
    "colab": {
      "provenance": [],
      "collapsed_sections": [],
      "authorship_tag": "ABX9TyOKuFQrRzFQYcaN0yRbvY+n",
      "include_colab_link": true
    },
    "kernelspec": {
      "name": "python3",
      "display_name": "Python 3"
    },
    "language_info": {
      "name": "python"
    }
  },
  "cells": [
    {
      "cell_type": "markdown",
      "metadata": {
        "id": "view-in-github",
        "colab_type": "text"
      },
      "source": [
        "<a href=\"https://colab.research.google.com/github/jonasmzsouza/colab-notebooks/blob/main/filtering-suppressed-contact-emails.ipynb\" target=\"_parent\"><img src=\"https://colab.research.google.com/assets/colab-badge.svg\" alt=\"Open In Colab\"/></a>"
      ]
    },
    {
      "cell_type": "markdown",
      "source": [
        "# **Filtering - Contact Lists vs. Suppression Lists**\n",
        "\n",
        "This script has the purpose of automating and optimizing contact databases (csv's), deleting email contacts that were suppressed by the email communication platform (sendgrid or others). In this way it improves statistics and generates savings in contact storage.\n",
        "\n",
        "\n",
        "#### **Author: Jonas Souza**"
      ],
      "metadata": {
        "id": "mzw057QuE6lU"
      }
    },
    {
      "cell_type": "markdown",
      "source": [
        "## Creating folders in the runtime environment.\n",
        "The following cells perform the importing of libraries and the creation of folders in the runtime environment.\n",
        "To check if the creation was successful, click on the folder icon in the side menu and then on refresh."
      ],
      "metadata": {
        "id": "Fwcgfkph0ViH"
      }
    },
    {
      "cell_type": "code",
      "source": [
        "# importing as libraries\n",
        "import os\n",
        "import pandas as pd\n",
        "import shutil"
      ],
      "metadata": {
        "id": "K1LcfFXpD4vn"
      },
      "execution_count": null,
      "outputs": []
    },
    {
      "cell_type": "markdown",
      "source": [
        "### folder names and paths"
      ],
      "metadata": {
        "id": "OorxZf7j0jte"
      }
    },
    {
      "cell_type": "code",
      "source": [
        "# folder names\n",
        "contacts = \"contact_lists\"\n",
        "suppressions = \"suppression_lists\"\n",
        "filtering = \"filtering_lists\"\n",
        "\n",
        "# paths\n",
        "path_root = \"./\"\n",
        "path_contacts = path_root + contacts\n",
        "path_suppressions = path_root + suppressions\n",
        "path_filtering = path_root + filtering\n",
        "\n",
        "folders = [path_suppressions, path_contacts, path_filtering]"
      ],
      "metadata": {
        "id": "vfTdjUZdNpeP"
      },
      "execution_count": null,
      "outputs": []
    },
    {
      "cell_type": "markdown",
      "source": [
        "### Creating folders"
      ],
      "metadata": {
        "id": "KKPPizwx0sam"
      }
    },
    {
      "cell_type": "code",
      "source": [
        "# creating folders\n",
        "for folder in folders:\n",
        "  if os.path.exists(folder) == False:\n",
        "    os.mkdir(folder)"
      ],
      "metadata": {
        "id": "qqxolvyA0aQX"
      },
      "execution_count": null,
      "outputs": []
    },
    {
      "cell_type": "markdown",
      "source": [
        "### **File uploads**\n",
        "### **WARNING!!!**\n",
        "Before running the cells below, access in the side menu the folder icon \"Files\" to expand the menu.\n",
        "\n",
        "*   Inside the **\"suppression_lists\"** folder, upload the csv files downloaded in Sendgrid's Suppressions, such as:\n",
        "  *   \"Global Unsubscribes\";\n",
        "  *   \"Bounces\";\n",
        "  *   \"Spam Reports\";\n",
        "  *   \"Blocks\";\n",
        "  *   \"Invalid\";\n",
        "  *   and \"Unsubscribe Groups\"\n",
        "*   Inside the **\"contact_lists\"** folder upload all the files related to the contact list backups."
      ],
      "metadata": {
        "id": "r3dtwhkhwGMZ"
      }
    },
    {
      "cell_type": "markdown",
      "source": [
        "## Filtering of contact lists"
      ],
      "metadata": {
        "id": "m1G3Ia7hKQ3B"
      }
    },
    {
      "cell_type": "markdown",
      "source": [
        "### Function that filters the database, comparing files contacts_lists x suppressions_lists"
      ],
      "metadata": {
        "id": "lNhSB5r5Dact"
      }
    },
    {
      "cell_type": "code",
      "source": [
        "def filter_database(data, data_suppr, file_name):\n",
        "  # reading and Transforming the contacts file into a DataFrame with Pandas\n",
        "  db_ctc = pd.read_csv(data)\n",
        "  db_ctc = db_ctc[db_ctc.columns.intersection(['email', 'nome'])]\n",
        "\n",
        "  # reading and Transforming the supression file into a DataFrame with Pandas\n",
        "  db_suppression = pd.read_csv(data_suppr)\n",
        "  db_suppression = db_suppression[db_suppression.columns.intersection(['email', 'nome'])]\n",
        "\n",
        "  # merge the files into a new file with data where the same \"email\" is present in both files\n",
        "  same_email_existing_in_the_files = db_suppression.merge(db_ctc, on='email')\n",
        "\n",
        "  # concatenates the contacts file with the new file that was generated after the merge\n",
        "  data_concat = pd.concat([db_ctc, same_email_existing_in_the_files ])\n",
        "\n",
        "  # removes the duplicates generating a new database without the emails from the supressions file\n",
        "  data_without_suppressions = data_concat.drop_duplicates(subset='email', keep=False)\n",
        "\n",
        "  # converting the filtering to CSV and exporting to the runtime environment\n",
        "  data_name = path_filtering + \"/\" + file_name\n",
        "  data_without_suppressions.to_csv(data_name, index = False, encoding ='utf8') "
      ],
      "metadata": {
        "id": "WtneJtMvJj6B"
      },
      "execution_count": null,
      "outputs": []
    },
    {
      "cell_type": "markdown",
      "source": [
        "### Loop repetition files of contacts_lists and suppressions_lists"
      ],
      "metadata": {
        "id": "Ztt_oSNMD6T7"
      }
    },
    {
      "cell_type": "code",
      "source": [
        "# repeating loop to go through the files in the contact_lists folder\n",
        "for file_ctc in os.listdir(path_contacts):\n",
        "\n",
        "  # condition to check if it is a csv file\n",
        "  if file_ctc.endswith(\".csv\"):\n",
        "\n",
        "    # loop to go through the files in the suppression_lists folder\n",
        "    for file_suppr in os.listdir(path_suppressions):\n",
        "\n",
        "      # condition to check if it is a csv file\n",
        "      if file_suppr.endswith(\".csv\"):\n",
        "\n",
        "        # paths\n",
        "        data_filter = path_filtering + \"/\" + file_ctc\n",
        "        data_ctc = path_contacts + \"/\" + file_ctc\n",
        "        data_suppr = path_suppressions + \"/\" + file_suppr\n",
        "\n",
        "        # condition to check if file_ctc has already been filtered. \n",
        "        # If not, it means it is the first time of the loop (filtering) file_ctc x file_suppr\n",
        "        data = data_filter if os.path.exists(data_filter) else data_ctc\n",
        "        \n",
        "        # instance the filter function\n",
        "        filter_database(data, data_suppr, file_ctc)  "
      ],
      "metadata": {
        "id": "pRt9lDBxN_j-"
      },
      "execution_count": null,
      "outputs": []
    },
    {
      "cell_type": "markdown",
      "source": [
        "### Generate zip of the folder containing the filtered files"
      ],
      "metadata": {
        "id": "UMQVmtyuEOQS"
      }
    },
    {
      "cell_type": "code",
      "source": [
        "# generating a zip file from the filtering_lists folder\n",
        "shutil.make_archive(filtering,'zip', path_filtering)"
      ],
      "metadata": {
        "id": "_6ZkJWEYlOKb"
      },
      "execution_count": null,
      "outputs": []
    }
  ]
}